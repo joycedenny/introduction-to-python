{
  "nbformat": 4,
  "nbformat_minor": 0,
  "metadata": {
    "colab": {
      "provenance": [],
      "authorship_tag": "ABX9TyOOU2FH7MsLu25ZVM4QqS2K",
      "include_colab_link": true
    },
    "kernelspec": {
      "name": "python3",
      "display_name": "Python 3"
    },
    "language_info": {
      "name": "python"
    }
  },
  "cells": [
    {
      "cell_type": "markdown",
      "metadata": {
        "id": "view-in-github",
        "colab_type": "text"
      },
      "source": [
        "<a href=\"https://colab.research.google.com/github/joycedenny/introduction-to-python/blob/main/introduction_to_python_7.ipynb\" target=\"_parent\"><img src=\"https://colab.research.google.com/assets/colab-badge.svg\" alt=\"Open In Colab\"/></a>"
      ]
    },
    {
      "cell_type": "code",
      "execution_count": 5,
      "metadata": {
        "colab": {
          "base_uri": "https://localhost:8080/"
        },
        "id": "Kr9979KZopO0",
        "outputId": "a5e52e1a-f157-4751-c51a-43bfdddf3f02"
      },
      "outputs": [
        {
          "name": "stdout",
          "output_type": "stream",
          "text": [
            "enter your travel sourse= train\n",
            "enter your travel destination= mysore\n",
            "enter the number of passengers= 2\n"
          ]
        }
      ],
      "source": [
        "travel_source=input(\"enter your travel source= \")\n",
        "travel_destination=input(\"enter your travel destination= \")\n",
        "number_of_passengers=input(\"enter the number of passengers= \")"
      ]
    },
    {
      "cell_type": "code",
      "source": [
        "print(\"your travel source=\" ,travel_source)\n",
        "print(\"your travel destination= \" ,travel_destination)\n",
        "print(\"number of passengers= \" ,number_of_passengers)"
      ],
      "metadata": {
        "colab": {
          "base_uri": "https://localhost:8080/"
        },
        "id": "xda9p_DDpsjU",
        "outputId": "af7839a9-2464-4157-8813-dc05f6112f8a"
      },
      "execution_count": 6,
      "outputs": [
        {
          "output_type": "stream",
          "name": "stdout",
          "text": [
            "your travel source= train\n",
            "your travel destination=  mysore\n",
            "number of passengers=  2\n"
          ]
        }
      ]
    },
    {
      "cell_type": "code",
      "source": [
        "a=int(input(\"enter ticket fare= \"))\n",
        "b=int(input(\"enter the number of passengers= \"))\n",
        "c=a/b\n",
        "print(\"your ticket fare= \" ,a)\n",
        "print(\"number of passengers= \" ,b)\n",
        "print(\"ticket fare per person= \" ,c)"
      ],
      "metadata": {
        "colab": {
          "base_uri": "https://localhost:8080/"
        },
        "id": "6F4xbQNaqgzv",
        "outputId": "6ec3ca8f-9e1f-4058-ad6e-3b1a100213ff"
      },
      "execution_count": 7,
      "outputs": [
        {
          "output_type": "stream",
          "name": "stdout",
          "text": [
            "enter ticket fare= 120\n",
            "enter the number of passengers= 2\n",
            "your ticket fare=  120\n",
            "number of passengers=  2\n",
            "ticket fare per person=  60.0\n"
          ]
        }
      ]
    },
    {
      "cell_type": "code",
      "source": [
        "name=input(\"enter your name= \")\n",
        "ticket_fare=input(\"enter your fare= \")\n",
        "print(name, ticket_fare)"
      ],
      "metadata": {
        "colab": {
          "base_uri": "https://localhost:8080/"
        },
        "id": "XVX3WjsPs6tl",
        "outputId": "f7503cc2-9ea0-499d-b9d0-b77804921078"
      },
      "execution_count": 8,
      "outputs": [
        {
          "output_type": "stream",
          "name": "stdout",
          "text": [
            "enter your name= joyce\n",
            "enter your fare= 120\n",
            "joyce 120\n"
          ]
        }
      ]
    },
    {
      "cell_type": "code",
      "source": [
        "ticket_fare=int(input(\"enter your ticket fare\"))\n",
        "if ticket_fare>10000 :\n",
        "  print(\"you are eligible for discount!\")\n",
        "else :\n",
        "  print(\"you are not eligible for discount\")  "
      ],
      "metadata": {
        "colab": {
          "base_uri": "https://localhost:8080/"
        },
        "id": "SGeQdnHIt1_E",
        "outputId": "ced22e3a-24e9-4565-d30e-304aeb745f95"
      },
      "execution_count": 9,
      "outputs": [
        {
          "output_type": "stream",
          "name": "stdout",
          "text": [
            "enter your ticket fare7000\n",
            "you are not eligible for discount\n"
          ]
        }
      ]
    },
    {
      "cell_type": "code",
      "source": [
        "ticket_fare=int(input(\"enter your ticket fare\"))\n",
        "if ticket_fare>15000 :\n",
        "  print(\"you are eligible for 20% discount!\")\n",
        "else :\n",
        "  print(\"you are eligible for 10% discount!\")  "
      ],
      "metadata": {
        "colab": {
          "base_uri": "https://localhost:8080/"
        },
        "id": "mnHuX2Jhu1HE",
        "outputId": "cb9458da-c883-4cda-d00f-3a995f0c2abf"
      },
      "execution_count": 10,
      "outputs": [
        {
          "output_type": "stream",
          "name": "stdout",
          "text": [
            "enter your ticket fare7000\n",
            "you are eligible for 10% discount!\n"
          ]
        }
      ]
    },
    {
      "cell_type": "code",
      "source": [
        "ticket_fare=int(input(\"enter your ticket fare\"))\n",
        "if ticket_fare>15000 :\n",
        "  print(\"you are eligible for 20% discount!\")\n",
        "else :\n",
        "  print(\"you are eligible for 10% discount!\") "
      ],
      "metadata": {
        "colab": {
          "base_uri": "https://localhost:8080/"
        },
        "id": "E0x5TkpZvNQb",
        "outputId": "22045c9c-f9fe-49e7-ef70-7cd0c9a5ddcc"
      },
      "execution_count": 11,
      "outputs": [
        {
          "output_type": "stream",
          "name": "stdout",
          "text": [
            "enter your ticket fare16000\n",
            "you are eligible for 20% discount!\n"
          ]
        }
      ]
    },
    {
      "cell_type": "code",
      "source": [
        "ticket_fare=int(input(\"enter your ticket fare\"))\n",
        "if ticket_fare >15000 :\n",
        "  print(\"you are eligible for 20% discount! , your discounted fare is \" ,ticket_fare-(ticket_fare*20/100))\n",
        "if ticket_fare <15000 :\n",
        "  print(\"you are eligible for 10% discount! , your discounted fare is \" ,ticket_fare-(ticket_fare*10/100))\n",
        "if ticket_fare <10000 :\n",
        "  print(\"you are eligible for 5% discount! , your discounted fare is \" ,ticket_fare-(ticket_fare*5/100))   "
      ],
      "metadata": {
        "colab": {
          "base_uri": "https://localhost:8080/"
        },
        "id": "THSgIqhcvVhX",
        "outputId": "c084fabb-1dda-4901-fd78-bc8f6f242620"
      },
      "execution_count": 13,
      "outputs": [
        {
          "output_type": "stream",
          "name": "stdout",
          "text": [
            "enter your ticket fare16000\n",
            "you are eligible for 20% discount! , your discounted fare is  12800.0\n"
          ]
        }
      ]
    },
    {
      "cell_type": "code",
      "source": [
        "ticket_fare=int(input(\"enter your ticket fare= \"))\n",
        "if ticket_fare >15000 :\n",
        "  print(\"you are eligible for 20% discount! , your discounted fare is \" ,ticket_fare-(ticket_fare*20/100))\n",
        "if ticket_fare <15000 :\n",
        "  print(\"you are eligible for 10% discount! , your discounted fare is \" ,ticket_fare-(ticket_fare*10/100))\n",
        "if ticket_fare <10000 :\n",
        "  print(\"you are eligible for 5% discount! , your discounted fare is \" ,ticket_fare-(ticket_fare*5/100))   "
      ],
      "metadata": {
        "colab": {
          "base_uri": "https://localhost:8080/"
        },
        "id": "c-6aiGxCxTBH",
        "outputId": "ccfde26d-9b45-4aa8-9372-b921fb82f333"
      },
      "execution_count": 14,
      "outputs": [
        {
          "output_type": "stream",
          "name": "stdout",
          "text": [
            "enter your ticket fare= 11000\n",
            "you are eligible for 10% discount! , your discounted fare is  9900.0\n"
          ]
        }
      ]
    },
    {
      "cell_type": "code",
      "source": [
        "n=int(input(\"enter number\"))\n",
        "if n>1 :\n",
        "  print(\"positive\")\n",
        "else :\n",
        "  print(\"negative\")\n",
        "if n==0 :\n",
        "  print(\"zero\")    "
      ],
      "metadata": {
        "colab": {
          "base_uri": "https://localhost:8080/"
        },
        "id": "2QYhBpvIyB6F",
        "outputId": "72ace703-7d7b-4c6d-b085-e2d16167c230"
      },
      "execution_count": 17,
      "outputs": [
        {
          "output_type": "stream",
          "name": "stdout",
          "text": [
            "enter number11\n",
            "positive\n"
          ]
        }
      ]
    },
    {
      "cell_type": "code",
      "source": [
        "n=int(input(\"enter number= \"))\n",
        "if n>1 :\n",
        "  print(\"positive\")\n",
        "else :\n",
        "  print(\"negative\")\n",
        "if n==0 :\n",
        "  print(\"zero\")    "
      ],
      "metadata": {
        "colab": {
          "base_uri": "https://localhost:8080/"
        },
        "id": "nYbM7Z2qy1gd",
        "outputId": "6d5b5b0e-1365-464b-a6e2-3504f5ed14f9"
      },
      "execution_count": 18,
      "outputs": [
        {
          "output_type": "stream",
          "name": "stdout",
          "text": [
            "enter number= -6\n",
            "negative\n"
          ]
        }
      ]
    },
    {
      "cell_type": "code",
      "source": [
        "age=int(input(\"enter your age\"))\n",
        "if age>18 :\n",
        "  print(\"adult\")\n",
        "if age>13 and age<16 :\n",
        "  print(\"teenager\")\n",
        "if age>6 and age<12 :\n",
        "  print(\"kid\")\n",
        "if age>2 and age<5 :\n",
        "  print(\"toddler\")\n",
        "if age<2 :\n",
        "  print(\"infant\")       "
      ],
      "metadata": {
        "colab": {
          "base_uri": "https://localhost:8080/"
        },
        "id": "WxIY992FzG0F",
        "outputId": "d6cee61f-9a8e-41db-b8d3-e1c26eabb7bc"
      },
      "execution_count": 22,
      "outputs": [
        {
          "output_type": "stream",
          "name": "stdout",
          "text": [
            "enter your age21\n",
            "adult\n"
          ]
        }
      ]
    },
    {
      "cell_type": "code",
      "source": [
        "age=int(input(\"enter your age= \"))\n",
        "if age>18 :\n",
        "  print(\"adult\")\n",
        "if age>13 and age<17 :\n",
        "  print(\"teenager\")\n",
        "if age>6 and age<12 :\n",
        "  print(\"kid\")\n",
        "if age>2 and age<5 :\n",
        "  print(\"toddler\")\n",
        "if age<2 :\n",
        "  print(\"infant\")       "
      ],
      "metadata": {
        "colab": {
          "base_uri": "https://localhost:8080/"
        },
        "id": "Rf5ab3EA0tVC",
        "outputId": "056a15d5-8935-40ff-cb6c-57bb67309045"
      },
      "execution_count": 24,
      "outputs": [
        {
          "output_type": "stream",
          "name": "stdout",
          "text": [
            "enter your age= 16\n",
            "teenager\n"
          ]
        }
      ]
    },
    {
      "cell_type": "code",
      "source": [
        "age=int(input(\"enter your age= \"))\n",
        "if age>18 :\n",
        "  print(\"adult\")\n",
        "if age>13 and age<16 :\n",
        "  print(\"teenager\")\n",
        "if age>6 and age<12 :\n",
        "  print(\"kid\")\n",
        "if age>2 and age<5 :\n",
        "  print(\"toddler\")\n",
        "if age<2 :\n",
        "  print(\"infant\")       "
      ],
      "metadata": {
        "colab": {
          "base_uri": "https://localhost:8080/"
        },
        "id": "HIs7M63T1AyP",
        "outputId": "9ba45322-9fcc-440f-d672-9e11560bc39c"
      },
      "execution_count": 25,
      "outputs": [
        {
          "output_type": "stream",
          "name": "stdout",
          "text": [
            "enter your age= 7\n",
            "kid\n"
          ]
        }
      ]
    },
    {
      "cell_type": "code",
      "source": [
        "age=int(input(\"enter your age= \"))\n",
        "if age>18 :\n",
        "  print(\"adult\")\n",
        "if age>13 and age<16 :\n",
        "  print(\"teenager\")\n",
        "if age>6 and age<12 :\n",
        "  print(\"kid\")\n",
        "if age>2 and age<5 :\n",
        "  print(\"toddler\")\n",
        "if age<2 :\n",
        "  print(\"infant\")       "
      ],
      "metadata": {
        "colab": {
          "base_uri": "https://localhost:8080/"
        },
        "id": "BULA9UeC1MH_",
        "outputId": "58c683e8-3cdf-4c43-e16f-f3e34b44c2c4"
      },
      "execution_count": 28,
      "outputs": [
        {
          "output_type": "stream",
          "name": "stdout",
          "text": [
            "enter your age= 4\n",
            "toddler\n"
          ]
        }
      ]
    },
    {
      "cell_type": "code",
      "source": [
        "age=int(input(\"enter your age= \"))\n",
        "if age>18 :\n",
        "  print(\"adult\")\n",
        "if age>13 and age<16 :\n",
        "  print(\"teenager\")\n",
        "if age>6 and age<12 :\n",
        "  print(\"kid\")\n",
        "if age>2 and age<5 :\n",
        "  print(\"toddler\")\n",
        "if age<2 :\n",
        "  print(\"infant\")       "
      ],
      "metadata": {
        "colab": {
          "base_uri": "https://localhost:8080/"
        },
        "id": "OZsUiA0E1Pmf",
        "outputId": "e8ade276-cb0f-4c54-82a7-695873f7d283"
      },
      "execution_count": 29,
      "outputs": [
        {
          "output_type": "stream",
          "name": "stdout",
          "text": [
            "enter your age= 1\n",
            "infant\n"
          ]
        }
      ]
    },
    {
      "cell_type": "code",
      "source": [
        "k=input(\"enter your initials= \")\n",
        "if k in [\"a,e,i,o,u\"] :\n",
        "  print(\"it contains a vowel\")\n",
        "else :\n",
        "  print(\"it does not contain a vowel\")  "
      ],
      "metadata": {
        "colab": {
          "base_uri": "https://localhost:8080/"
        },
        "id": "a37CILxJ1Van",
        "outputId": "bfa7fbb1-81f5-41cb-d6df-8ee4feac3d33"
      },
      "execution_count": 32,
      "outputs": [
        {
          "output_type": "stream",
          "name": "stdout",
          "text": [
            "enter your initials= jdk\n",
            "it does not contain a vowel\n"
          ]
        }
      ]
    },
    {
      "cell_type": "code",
      "source": [
        "k=input(\"enter your initials= \")\n",
        "if k in (\"a,e,i,o,u\") :\n",
        "  print(\"it contains a vowel\")\n",
        "else :\n",
        "  print(\"it does not contain a vowel\")  "
      ],
      "metadata": {
        "colab": {
          "base_uri": "https://localhost:8080/"
        },
        "id": "xW8mdoCe3pR-",
        "outputId": "e15478ad-0e7b-4c48-b329-8e383970cabd"
      },
      "execution_count": 37,
      "outputs": [
        {
          "output_type": "stream",
          "name": "stdout",
          "text": [
            "enter your initials= u\n",
            "it contains a vowel\n"
          ]
        }
      ]
    },
    {
      "cell_type": "code",
      "source": [
        "name=input(\"enter your name= \")\n",
        "for i in name :\n",
        "  print(i) "
      ],
      "metadata": {
        "colab": {
          "base_uri": "https://localhost:8080/"
        },
        "id": "fnz0umbD3tyi",
        "outputId": "7c93273c-b9b7-42fb-dfab-84142a35b8d1"
      },
      "execution_count": 38,
      "outputs": [
        {
          "output_type": "stream",
          "name": "stdout",
          "text": [
            "enter your name= JOYCE\n",
            "J\n",
            "O\n",
            "Y\n",
            "C\n",
            "E\n"
          ]
        }
      ]
    },
    {
      "cell_type": "code",
      "source": [
        "for i in range(45,89,2):\n",
        " print(i)"
      ],
      "metadata": {
        "colab": {
          "base_uri": "https://localhost:8080/"
        },
        "id": "aZfr9SsK5wmE",
        "outputId": "50c76f0b-b3a8-4214-c6b0-d19042a8a211"
      },
      "execution_count": 41,
      "outputs": [
        {
          "output_type": "stream",
          "name": "stdout",
          "text": [
            "45\n",
            "47\n",
            "49\n",
            "51\n",
            "53\n",
            "55\n",
            "57\n",
            "59\n",
            "61\n",
            "63\n",
            "65\n",
            "67\n",
            "69\n",
            "71\n",
            "73\n",
            "75\n",
            "77\n",
            "79\n",
            "81\n",
            "83\n",
            "85\n",
            "87\n"
          ]
        }
      ]
    },
    {
      "cell_type": "code",
      "source": [
        "for i in range(1,11):\n",
        " print(i,\"                 \", i+(i+1))"
      ],
      "metadata": {
        "colab": {
          "base_uri": "https://localhost:8080/"
        },
        "id": "GdtnNGUD6hyI",
        "outputId": "4eeebf07-f87b-4866-8af6-4a81d8f292eb"
      },
      "execution_count": 48,
      "outputs": [
        {
          "output_type": "stream",
          "name": "stdout",
          "text": [
            "1                   3\n",
            "2                   5\n",
            "3                   7\n",
            "4                   9\n",
            "5                   11\n",
            "6                   13\n",
            "7                   15\n",
            "8                   17\n",
            "9                   19\n",
            "10                   21\n"
          ]
        }
      ]
    },
    {
      "cell_type": "code",
      "source": [],
      "metadata": {
        "id": "ZrLUm6Rp74AC"
      },
      "execution_count": null,
      "outputs": []
    }
  ]
}