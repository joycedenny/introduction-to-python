{
  "nbformat": 4,
  "nbformat_minor": 0,
  "metadata": {
    "colab": {
      "provenance": [],
      "authorship_tag": "ABX9TyOSJYLhwoI8aujATsTilx1a",
      "include_colab_link": true
    },
    "kernelspec": {
      "name": "python3",
      "display_name": "Python 3"
    },
    "language_info": {
      "name": "python"
    }
  },
  "cells": [
    {
      "cell_type": "markdown",
      "metadata": {
        "id": "view-in-github",
        "colab_type": "text"
      },
      "source": [
        "<a href=\"https://colab.research.google.com/github/joycedenny/introduction-to-python/blob/main/introduction%20to%20python%205.ipynb\" target=\"_parent\"><img src=\"https://colab.research.google.com/assets/colab-badge.svg\" alt=\"Open In Colab\"/></a>"
      ]
    },
    {
      "cell_type": "code",
      "execution_count": 3,
      "metadata": {
        "id": "qo-RPE2GK-Oy"
      },
      "outputs": [],
      "source": [
        "def joyce():\n",
        "  print(\" dkjghadityaweroistkavyajfsdcmyhiccupakljew \")"
      ]
    },
    {
      "cell_type": "code",
      "source": [
        "joyce()"
      ],
      "metadata": {
        "colab": {
          "base_uri": "https://localhost:8080/"
        },
        "id": "ManXhGlHMvQ2",
        "outputId": "163ac3d4-b9d0-4ab9-83a8-05d75e348cec"
      },
      "execution_count": 4,
      "outputs": [
        {
          "output_type": "stream",
          "name": "stdout",
          "text": [
            " dkjghadityaweroistkavyajfsdcmyhiccupakljew \n"
          ]
        }
      ]
    },
    {
      "cell_type": "code",
      "source": [
        "def joyce(x,y):\n",
        "  z=x+y\n",
        "  print(\"result = \",z)"
      ],
      "metadata": {
        "id": "_Tpduo4UMxXM"
      },
      "execution_count": 19,
      "outputs": []
    },
    {
      "cell_type": "code",
      "source": [
        "joyce(6,1)"
      ],
      "metadata": {
        "colab": {
          "base_uri": "https://localhost:8080/"
        },
        "id": "_dfB6bWsO49p",
        "outputId": "03dae747-b9c4-4fa1-dc2c-ca6216d1b94f"
      },
      "execution_count": 20,
      "outputs": [
        {
          "output_type": "stream",
          "name": "stdout",
          "text": [
            "result =  7\n"
          ]
        }
      ]
    },
    {
      "cell_type": "code",
      "source": [
        "def joyce(x,y):\n",
        "  z=x-y\n",
        "  print(\"result = \",z)"
      ],
      "metadata": {
        "id": "p-5EtaMVPGeB"
      },
      "execution_count": 21,
      "outputs": []
    },
    {
      "cell_type": "code",
      "source": [
        "joyce(6,1)"
      ],
      "metadata": {
        "colab": {
          "base_uri": "https://localhost:8080/"
        },
        "id": "t_pX3p8cPWGt",
        "outputId": "a9eebd6c-6d99-4de6-c673-cf3a18865381"
      },
      "execution_count": 22,
      "outputs": [
        {
          "output_type": "stream",
          "name": "stdout",
          "text": [
            "result =  5\n"
          ]
        }
      ]
    },
    {
      "cell_type": "code",
      "source": [
        "def joyce(x,y):\n",
        "  z=x*y\n",
        "  print(\"result = \",z)"
      ],
      "metadata": {
        "id": "5s3kLAoFPbuk"
      },
      "execution_count": 23,
      "outputs": []
    },
    {
      "cell_type": "code",
      "source": [
        "joyce(6,1)"
      ],
      "metadata": {
        "colab": {
          "base_uri": "https://localhost:8080/"
        },
        "id": "xHQ33mRtQFHm",
        "outputId": "86337f11-9266-4cdc-d36a-953e4cc9fd01"
      },
      "execution_count": 24,
      "outputs": [
        {
          "output_type": "stream",
          "name": "stdout",
          "text": [
            "result =  6\n"
          ]
        }
      ]
    },
    {
      "cell_type": "code",
      "source": [
        "def joyce(x,y):\n",
        "  z=x/y\n",
        "  print(\"result = \",z)"
      ],
      "metadata": {
        "id": "lLqeaPdqQMf9"
      },
      "execution_count": 25,
      "outputs": []
    },
    {
      "cell_type": "code",
      "source": [
        "joyce(6,1)"
      ],
      "metadata": {
        "colab": {
          "base_uri": "https://localhost:8080/"
        },
        "id": "EAhrEq89QhM7",
        "outputId": "af49c7f0-37ce-45e6-a39f-2259830bdfbb"
      },
      "execution_count": 26,
      "outputs": [
        {
          "output_type": "stream",
          "name": "stdout",
          "text": [
            "result =  6.0\n"
          ]
        }
      ]
    },
    {
      "cell_type": "code",
      "source": [
        "def joyce(salary):\n",
        "  if salary <250000:\n",
        "    print(\"no tax\")\n",
        "  if salary >250000:\n",
        "    print(\"tax\")  "
      ],
      "metadata": {
        "id": "-G6Dv8ujQp51"
      },
      "execution_count": 28,
      "outputs": []
    },
    {
      "cell_type": "code",
      "source": [
        "x=int(input(\"enter a salary\"))\n",
        "joyce(x)"
      ],
      "metadata": {
        "colab": {
          "base_uri": "https://localhost:8080/"
        },
        "id": "ZikmuLg5SekZ",
        "outputId": "10017730-7c6b-43f5-89a0-4772ce9f3e10"
      },
      "execution_count": 29,
      "outputs": [
        {
          "output_type": "stream",
          "name": "stdout",
          "text": [
            "enter a salary100000\n",
            "no tax\n"
          ]
        }
      ]
    },
    {
      "cell_type": "code",
      "source": [
        "x=int(input(\"enter a salary \"))\n",
        "joyce(x)"
      ],
      "metadata": {
        "colab": {
          "base_uri": "https://localhost:8080/"
        },
        "id": "QmTs0zpcS4zU",
        "outputId": "fee90526-541b-48ab-bffb-57d7f2fbda4e"
      },
      "execution_count": 30,
      "outputs": [
        {
          "output_type": "stream",
          "name": "stdout",
          "text": [
            "enter a salary 300000\n",
            "tax\n"
          ]
        }
      ]
    },
    {
      "cell_type": "code",
      "source": [
        "x=int(input(\"enter a number\"))\n",
        "joyce(x)\n"
      ],
      "metadata": {
        "colab": {
          "base_uri": "https://localhost:8080/"
        },
        "id": "4b4VEixpXDig",
        "outputId": "800e1f84-2acc-4a96-950e-7f38e6979b23"
      },
      "execution_count": 33,
      "outputs": [
        {
          "output_type": "stream",
          "name": "stdout",
          "text": [
            "enter a number 10\n",
            "no tax\n"
          ]
        }
      ]
    },
    {
      "cell_type": "code",
      "source": [
        "def joyce(v):\n",
        "  k=0\n",
        "  for a in range(1,v): \n",
        "    k=k+a\n",
        "  print(k)\n"
      ],
      "metadata": {
        "id": "erBX5YOOXcth"
      },
      "execution_count": 35,
      "outputs": []
    },
    {
      "cell_type": "code",
      "source": [
        "joyce(100)"
      ],
      "metadata": {
        "colab": {
          "base_uri": "https://localhost:8080/"
        },
        "id": "_qLaLD4VbLhT",
        "outputId": "9c1e5bb0-f840-4ae5-ee8e-4ce6db0ec924"
      },
      "execution_count": 36,
      "outputs": [
        {
          "output_type": "stream",
          "name": "stdout",
          "text": [
            "4950\n"
          ]
        }
      ]
    },
    {
      "cell_type": "code",
      "source": [
        "def add(x,y):\n",
        "  print(x+y)\n",
        "def sub(x,y):\n",
        "  print(x-y)"
      ],
      "metadata": {
        "id": "aBW1iZfjbXBj"
      },
      "execution_count": 37,
      "outputs": []
    },
    {
      "cell_type": "code",
      "source": [
        "x=int(input(\"enter a number \"))\n",
        "y=int(input(\"enter a number \"))\n",
        "add(x,y)"
      ],
      "metadata": {
        "colab": {
          "base_uri": "https://localhost:8080/"
        },
        "id": "-RJXonVIc4Vc",
        "outputId": "f9583043-8ab8-4f17-c22e-ce83e5275220"
      },
      "execution_count": 40,
      "outputs": [
        {
          "output_type": "stream",
          "name": "stdout",
          "text": [
            "enter a number 12\n",
            "enter a number 30\n",
            "42\n"
          ]
        }
      ]
    },
    {
      "cell_type": "code",
      "source": [],
      "metadata": {
        "id": "VS3evS-0dFdY"
      },
      "execution_count": 39,
      "outputs": []
    }
  ]
}