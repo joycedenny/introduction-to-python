{
  "nbformat": 4,
  "nbformat_minor": 0,
  "metadata": {
    "colab": {
      "provenance": [],
      "collapsed_sections": []
    },
    "kernelspec": {
      "name": "python3",
      "display_name": "Python 3"
    },
    "language_info": {
      "name": "python"
    }
  },
  "cells": [
    {
      "cell_type": "code",
      "execution_count": 1,
      "metadata": {
        "colab": {
          "base_uri": "https://localhost:8080/"
        },
        "id": "V3WxIvtoew_x",
        "outputId": "0f941368-f406-4de2-daee-d58c09e4ee8e"
      },
      "outputs": [
        {
          "name": "stdout",
          "output_type": "stream",
          "text": [
            "50\n"
          ]
        }
      ],
      "source": [
        "mark=int(input())"
      ]
    },
    {
      "cell_type": "code",
      "source": [
        "if mark >50 :\n",
        "  print(\"you are passed\")\n",
        "if mark <50 :\n",
        "  print(\"you are failed\")\n",
        "if mark==50 :\n",
        "  print(\"you are just passed\")  "
      ],
      "metadata": {
        "colab": {
          "base_uri": "https://localhost:8080/"
        },
        "id": "o_c3YHwBg3iC",
        "outputId": "ee9baeca-dfa0-4dee-8feb-3024d26ded75"
      },
      "execution_count": 6,
      "outputs": [
        {
          "output_type": "stream",
          "name": "stdout",
          "text": [
            "you are just passed\n"
          ]
        }
      ]
    },
    {
      "cell_type": "code",
      "source": [
        "salary=int(input())"
      ],
      "metadata": {
        "colab": {
          "base_uri": "https://localhost:8080/"
        },
        "id": "pAyXAQ6jh_2m",
        "outputId": "0a938dee-7643-4d01-d58f-f600f5d94698"
      },
      "execution_count": 8,
      "outputs": [
        {
          "name": "stdout",
          "output_type": "stream",
          "text": [
            "250000\n"
          ]
        }
      ]
    },
    {
      "cell_type": "code",
      "source": [
        "if salary >=250000 :\n",
        "  print(\"you are taxable\")\n",
        "if salary <250000 :\n",
        "  print(\"you are not taxable\")  "
      ],
      "metadata": {
        "colab": {
          "base_uri": "https://localhost:8080/"
        },
        "outputId": "55bd15b0-4112-41a1-9cd0-61f89f9eeeca",
        "id": "KgJNvta6lJFS"
      },
      "execution_count": 10,
      "outputs": [
        {
          "output_type": "stream",
          "name": "stdout",
          "text": [
            "you are taxable\n"
          ]
        }
      ]
    },
    {
      "cell_type": "code",
      "source": [
        "if salary >=250000 :\n",
        "  print(\"you are taxable\")\n",
        "  print(\"your tax amount\" , (salary*10/100 ))\n",
        "if salary <250000 :\n",
        "  print(\"you are not taxable\")  "
      ],
      "metadata": {
        "colab": {
          "base_uri": "https://localhost:8080/"
        },
        "outputId": "b1972011-f1d8-4bda-8179-1ed151a18b21",
        "id": "os120EaKmCJO"
      },
      "execution_count": 19,
      "outputs": [
        {
          "output_type": "stream",
          "name": "stdout",
          "text": [
            "you are taxable\n",
            "your tax amount 30000.0\n"
          ]
        }
      ]
    },
    {
      "cell_type": "code",
      "source": [
        "salary=int(input())"
      ],
      "metadata": {
        "colab": {
          "base_uri": "https://localhost:8080/"
        },
        "id": "a4o_lUlNnotJ",
        "outputId": "bb5b6cde-5c37-4dbf-ed4d-e4622d19e95a"
      },
      "execution_count": 15,
      "outputs": [
        {
          "name": "stdout",
          "output_type": "stream",
          "text": [
            "300000\n"
          ]
        }
      ]
    },
    {
      "cell_type": "code",
      "source": [
        "if salary >=250000 :\n",
        "  print(\"you are taxable\")\n",
        "  print(\"your tax amount\" , ((salary-250000)*10/100))"
      ],
      "metadata": {
        "colab": {
          "base_uri": "https://localhost:8080/"
        },
        "id": "DQoaxrAbo2Hf",
        "outputId": "d3e849b4-a900-42c7-e6bd-8cc9ef0ebd80"
      },
      "execution_count": 18,
      "outputs": [
        {
          "output_type": "stream",
          "name": "stdout",
          "text": [
            "you are taxable\n",
            "your tax amount 5000.0\n"
          ]
        }
      ]
    },
    {
      "cell_type": "code",
      "source": [
        "salary=int(input())\n",
        "if salary >=250000 :\n",
        "  print(\"you are taxable\")\n",
        "  print(\"your tax amount\" , ((salary-250000)*10/100 ))\n",
        "if salary <250000 :\n",
        "  print(\"you are not taxable\")  "
      ],
      "metadata": {
        "colab": {
          "base_uri": "https://localhost:8080/"
        },
        "outputId": "e4d56b13-e83e-4882-b592-384735ce82b5",
        "id": "SQVvRav5vhos"
      },
      "execution_count": 20,
      "outputs": [
        {
          "output_type": "stream",
          "name": "stdout",
          "text": [
            "300000\n",
            "you are taxable\n",
            "your tax amount 5000.0\n"
          ]
        }
      ]
    },
    {
      "cell_type": "code",
      "source": [
        "salary=int(input())\n",
        "if salary <250000 :\n",
        "  print(\"no tax\")\n",
        "if 250000<salary <500000:\n",
        "  print(\"your tax amount\" , (salary*10/100 ))\n",
        "if 500000<salary <1000000 :\n",
        "  print(\"your tax amount\" , (salary*20/100))  "
      ],
      "metadata": {
        "colab": {
          "base_uri": "https://localhost:8080/"
        },
        "outputId": "5c0ccd20-aad2-46b8-cc67-0e453397ae50",
        "id": "gsJFzOh8wIhY"
      },
      "execution_count": 29,
      "outputs": [
        {
          "output_type": "stream",
          "name": "stdout",
          "text": [
            "900000\n",
            "your tax amount 180000.0\n"
          ]
        }
      ]
    },
    {
      "cell_type": "code",
      "source": [],
      "metadata": {
        "id": "mbrBqWlHxfQO"
      },
      "execution_count": 28,
      "outputs": []
    }
  ]
}