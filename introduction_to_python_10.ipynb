{
  "nbformat": 4,
  "nbformat_minor": 0,
  "metadata": {
    "colab": {
      "provenance": [],
      "authorship_tag": "ABX9TyPM5n9uwDh3Bdtbc8iL3XTc",
      "include_colab_link": true
    },
    "kernelspec": {
      "name": "python3",
      "display_name": "Python 3"
    },
    "language_info": {
      "name": "python"
    }
  },
  "cells": [
    {
      "cell_type": "markdown",
      "metadata": {
        "id": "view-in-github",
        "colab_type": "text"
      },
      "source": [
        "<a href=\"https://colab.research.google.com/github/joycedenny/introduction-to-python/blob/main/introduction_to_python_10.ipynb\" target=\"_parent\"><img src=\"https://colab.research.google.com/assets/colab-badge.svg\" alt=\"Open In Colab\"/></a>"
      ]
    },
    {
      "cell_type": "code",
      "execution_count": 1,
      "metadata": {
        "colab": {
          "base_uri": "https://localhost:8080/"
        },
        "id": "l7mOr43c26xQ",
        "outputId": "be48f779-9b0f-4ad2-f827-ef753bf1238e"
      },
      "outputs": [
        {
          "name": "stdout",
          "output_type": "stream",
          "text": [
            "enter a number = 11\n"
          ]
        }
      ],
      "source": [
        "x=int(input(\"enter a number = \"))"
      ]
    },
    {
      "cell_type": "code",
      "source": [
        "type(x)"
      ],
      "metadata": {
        "colab": {
          "base_uri": "https://localhost:8080/"
        },
        "id": "FGhRlZFA3Jc_",
        "outputId": "5d20ff6c-a846-4605-890c-3b00f16c4535"
      },
      "execution_count": 2,
      "outputs": [
        {
          "output_type": "execute_result",
          "data": {
            "text/plain": [
              "int"
            ]
          },
          "metadata": {},
          "execution_count": 2
        }
      ]
    },
    {
      "cell_type": "code",
      "source": [
        "type(30+12.21)"
      ],
      "metadata": {
        "colab": {
          "base_uri": "https://localhost:8080/"
        },
        "id": "ndjbiRk23YFe",
        "outputId": "12c32174-ff76-4631-ed3d-e0d45c6cb374"
      },
      "execution_count": 3,
      "outputs": [
        {
          "output_type": "execute_result",
          "data": {
            "text/plain": [
              "float"
            ]
          },
          "metadata": {},
          "execution_count": 3
        }
      ]
    },
    {
      "cell_type": "code",
      "source": [
        "type('sleep')"
      ],
      "metadata": {
        "colab": {
          "base_uri": "https://localhost:8080/"
        },
        "id": "vTHpa19V3kCt",
        "outputId": "2e9f4ce1-d39a-41e9-da3e-f9ee57afb639"
      },
      "execution_count": 5,
      "outputs": [
        {
          "output_type": "execute_result",
          "data": {
            "text/plain": [
              "str"
            ]
          },
          "metadata": {},
          "execution_count": 5
        }
      ]
    },
    {
      "cell_type": "code",
      "source": [
        "c=10+3j"
      ],
      "metadata": {
        "id": "UH22XFDA4B-H"
      },
      "execution_count": 6,
      "outputs": []
    },
    {
      "cell_type": "code",
      "source": [
        "type(c)"
      ],
      "metadata": {
        "colab": {
          "base_uri": "https://localhost:8080/"
        },
        "id": "ONkhIoD14Lgp",
        "outputId": "df1939d8-4aa8-4d0a-f285-60d90152ecdd"
      },
      "execution_count": 7,
      "outputs": [
        {
          "output_type": "execute_result",
          "data": {
            "text/plain": [
              "complex"
            ]
          },
          "metadata": {},
          "execution_count": 7
        }
      ]
    },
    {
      "cell_type": "code",
      "source": [
        "d=\"joyce\""
      ],
      "metadata": {
        "id": "irKQGD3M4UKP"
      },
      "execution_count": 8,
      "outputs": []
    },
    {
      "cell_type": "code",
      "source": [
        "type(d)"
      ],
      "metadata": {
        "colab": {
          "base_uri": "https://localhost:8080/"
        },
        "id": "arGuwtJR4Yju",
        "outputId": "ff37c1a7-2b23-48fa-c201-16bef8cfe048"
      },
      "execution_count": 9,
      "outputs": [
        {
          "output_type": "execute_result",
          "data": {
            "text/plain": [
              "str"
            ]
          },
          "metadata": {},
          "execution_count": 9
        }
      ]
    },
    {
      "cell_type": "code",
      "source": [
        "e=\"I am a student of rajagiri.\""
      ],
      "metadata": {
        "id": "vSqxirO24aiO"
      },
      "execution_count": 10,
      "outputs": []
    },
    {
      "cell_type": "code",
      "source": [
        "type(e)"
      ],
      "metadata": {
        "colab": {
          "base_uri": "https://localhost:8080/"
        },
        "id": "fYuScVNW4oql",
        "outputId": "584b83bf-4cf5-4433-9234-b8a4ea77a3c1"
      },
      "execution_count": 12,
      "outputs": [
        {
          "output_type": "execute_result",
          "data": {
            "text/plain": [
              "str"
            ]
          },
          "metadata": {},
          "execution_count": 12
        }
      ]
    },
    {
      "cell_type": "code",
      "source": [
        "friends=['gayathri','veenus','adithya','kavya','ann']"
      ],
      "metadata": {
        "id": "MkZe6iJJ4qZd"
      },
      "execution_count": 14,
      "outputs": []
    },
    {
      "cell_type": "code",
      "source": [
        "type(friends)"
      ],
      "metadata": {
        "colab": {
          "base_uri": "https://localhost:8080/"
        },
        "id": "nhZqI56U5UJr",
        "outputId": "53bc0f67-b5ec-4b6b-b754-5ffbd1d74dff"
      },
      "execution_count": 16,
      "outputs": [
        {
          "output_type": "execute_result",
          "data": {
            "text/plain": [
              "list"
            ]
          },
          "metadata": {},
          "execution_count": 16
        }
      ]
    },
    {
      "cell_type": "code",
      "source": [
        "print(friends)"
      ],
      "metadata": {
        "colab": {
          "base_uri": "https://localhost:8080/"
        },
        "id": "sb3qqVFO5cuH",
        "outputId": "7384e57f-645d-4203-d1ee-17d30d97e2bb"
      },
      "execution_count": 17,
      "outputs": [
        {
          "output_type": "stream",
          "name": "stdout",
          "text": [
            "['gayathri', 'veenus', 'adithya', 'kavya', 'ann']\n"
          ]
        }
      ]
    },
    {
      "cell_type": "code",
      "source": [
        "grades=[\"3\",\"4\",\"joyce\",\"50.6\"]"
      ],
      "metadata": {
        "id": "smUGhvtn56ll"
      },
      "execution_count": 18,
      "outputs": []
    },
    {
      "cell_type": "code",
      "source": [
        "type(grades)"
      ],
      "metadata": {
        "colab": {
          "base_uri": "https://localhost:8080/"
        },
        "id": "h0vqtGNc6SM1",
        "outputId": "e7c80ed4-d2f1-461d-e663-f3de0f3f2f2c"
      },
      "execution_count": 19,
      "outputs": [
        {
          "output_type": "execute_result",
          "data": {
            "text/plain": [
              "list"
            ]
          },
          "metadata": {},
          "execution_count": 19
        }
      ]
    },
    {
      "cell_type": "code",
      "source": [
        "print(friends[1])"
      ],
      "metadata": {
        "colab": {
          "base_uri": "https://localhost:8080/"
        },
        "id": "nmECPV0x6U8d",
        "outputId": "b4377cdc-6cc4-4688-9790-c70dd5b58854"
      },
      "execution_count": 20,
      "outputs": [
        {
          "output_type": "stream",
          "name": "stdout",
          "text": [
            "veenus\n"
          ]
        }
      ]
    },
    {
      "cell_type": "code",
      "source": [
        "print(friends[4])"
      ],
      "metadata": {
        "colab": {
          "base_uri": "https://localhost:8080/"
        },
        "id": "zh0wiAKl6eId",
        "outputId": "6b22d226-9c26-44bd-ea91-73699faa2742"
      },
      "execution_count": 21,
      "outputs": [
        {
          "output_type": "stream",
          "name": "stdout",
          "text": [
            "ann\n"
          ]
        }
      ]
    },
    {
      "cell_type": "code",
      "source": [
        "print(friends[0])"
      ],
      "metadata": {
        "colab": {
          "base_uri": "https://localhost:8080/"
        },
        "id": "08CRdBYw6kgd",
        "outputId": "9a00c8b2-90d2-43bc-ecf3-12e04bcf3759"
      },
      "execution_count": 22,
      "outputs": [
        {
          "output_type": "stream",
          "name": "stdout",
          "text": [
            "gayathri\n"
          ]
        }
      ]
    },
    {
      "cell_type": "code",
      "source": [
        "schoolfriends=[\"ann mariya\", \"annjalina\" ,\"merin\", \"apoorva\", \"aparna\"]"
      ],
      "metadata": {
        "id": "GacHJaPt6nsl"
      },
      "execution_count": 23,
      "outputs": []
    },
    {
      "cell_type": "code",
      "source": [
        "friends.pop()"
      ],
      "metadata": {
        "colab": {
          "base_uri": "https://localhost:8080/",
          "height": 35
        },
        "id": "VdvlQcXa7cvd",
        "outputId": "c3293586-075d-488a-98a0-4d377689999b"
      },
      "execution_count": 28,
      "outputs": [
        {
          "output_type": "execute_result",
          "data": {
            "text/plain": [
              "'kavya'"
            ],
            "application/vnd.google.colaboratory.intrinsic+json": {
              "type": "string"
            }
          },
          "metadata": {},
          "execution_count": 28
        }
      ]
    },
    {
      "cell_type": "code",
      "source": [
        "print(friends)"
      ],
      "metadata": {
        "colab": {
          "base_uri": "https://localhost:8080/"
        },
        "id": "YKl2Iixf8T37",
        "outputId": "28048730-1b60-45bc-e472-a5c5a03cc7d4"
      },
      "execution_count": 29,
      "outputs": [
        {
          "output_type": "stream",
          "name": "stdout",
          "text": [
            "['gayathri', 'veenus', 'adithya']\n"
          ]
        }
      ]
    },
    {
      "cell_type": "code",
      "source": [
        "friends.pop()"
      ],
      "metadata": {
        "colab": {
          "base_uri": "https://localhost:8080/",
          "height": 35
        },
        "id": "C7YzdKir8XVP",
        "outputId": "65b4e299-4c1e-4c5a-ca39-e38ddb8da96c"
      },
      "execution_count": 30,
      "outputs": [
        {
          "output_type": "execute_result",
          "data": {
            "text/plain": [
              "'adithya'"
            ],
            "application/vnd.google.colaboratory.intrinsic+json": {
              "type": "string"
            }
          },
          "metadata": {},
          "execution_count": 30
        }
      ]
    },
    {
      "cell_type": "code",
      "source": [
        "print(friends)"
      ],
      "metadata": {
        "colab": {
          "base_uri": "https://localhost:8080/"
        },
        "id": "oBQ8138T8rea",
        "outputId": "80099f37-5906-4c01-bc14-64b27d692cb2"
      },
      "execution_count": 31,
      "outputs": [
        {
          "output_type": "stream",
          "name": "stdout",
          "text": [
            "['gayathri', 'veenus']\n"
          ]
        }
      ]
    },
    {
      "cell_type": "code",
      "source": [
        "friends.pop()"
      ],
      "metadata": {
        "colab": {
          "base_uri": "https://localhost:8080/",
          "height": 35
        },
        "id": "YRvR7ttA8xFy",
        "outputId": "558d9177-74f2-4e8d-b4c7-10bf070dba09"
      },
      "execution_count": 32,
      "outputs": [
        {
          "output_type": "execute_result",
          "data": {
            "text/plain": [
              "'veenus'"
            ],
            "application/vnd.google.colaboratory.intrinsic+json": {
              "type": "string"
            }
          },
          "metadata": {},
          "execution_count": 32
        }
      ]
    },
    {
      "cell_type": "code",
      "source": [
        "print(friends)"
      ],
      "metadata": {
        "colab": {
          "base_uri": "https://localhost:8080/"
        },
        "id": "WajFG16V81iq",
        "outputId": "af77ca9c-613d-4ea9-9fd1-65a50089b3b3"
      },
      "execution_count": 33,
      "outputs": [
        {
          "output_type": "stream",
          "name": "stdout",
          "text": [
            "['gayathri']\n"
          ]
        }
      ]
    },
    {
      "cell_type": "code",
      "source": [
        "friends.pop()"
      ],
      "metadata": {
        "colab": {
          "base_uri": "https://localhost:8080/",
          "height": 35
        },
        "id": "ILtBl5kn84zc",
        "outputId": "598ab377-d65f-4679-b8db-1a0a07338a62"
      },
      "execution_count": 34,
      "outputs": [
        {
          "output_type": "execute_result",
          "data": {
            "text/plain": [
              "'gayathri'"
            ],
            "application/vnd.google.colaboratory.intrinsic+json": {
              "type": "string"
            }
          },
          "metadata": {},
          "execution_count": 34
        }
      ]
    },
    {
      "cell_type": "code",
      "source": [
        "print(friends)"
      ],
      "metadata": {
        "colab": {
          "base_uri": "https://localhost:8080/"
        },
        "id": "Dyklayju89lQ",
        "outputId": "d0e6bd58-dc36-4525-d657-74fd481e6e27"
      },
      "execution_count": 35,
      "outputs": [
        {
          "output_type": "stream",
          "name": "stdout",
          "text": [
            "[]\n"
          ]
        }
      ]
    },
    {
      "cell_type": "code",
      "source": [
        "schoolfriends.pop(2)"
      ],
      "metadata": {
        "colab": {
          "base_uri": "https://localhost:8080/",
          "height": 35
        },
        "id": "SZvOith09BZg",
        "outputId": "58aa29f7-3607-4017-e137-1f95a6f89645"
      },
      "execution_count": 36,
      "outputs": [
        {
          "output_type": "execute_result",
          "data": {
            "text/plain": [
              "'merin'"
            ],
            "application/vnd.google.colaboratory.intrinsic+json": {
              "type": "string"
            }
          },
          "metadata": {},
          "execution_count": 36
        }
      ]
    },
    {
      "cell_type": "code",
      "source": [
        "print(schoolfriends)"
      ],
      "metadata": {
        "colab": {
          "base_uri": "https://localhost:8080/"
        },
        "id": "-wgIfhsb9oir",
        "outputId": "59608ea4-492c-4083-e409-df50f1cbbfd6"
      },
      "execution_count": 37,
      "outputs": [
        {
          "output_type": "stream",
          "name": "stdout",
          "text": [
            "['ann mariya', 'annjalina', 'apoorva', 'aparna']\n"
          ]
        }
      ]
    },
    {
      "cell_type": "code",
      "source": [
        "schoolfriends.append(\"merin\")"
      ],
      "metadata": {
        "id": "Wp6yH1n69s3T"
      },
      "execution_count": 38,
      "outputs": []
    },
    {
      "cell_type": "code",
      "source": [
        "print(schoolfriends)"
      ],
      "metadata": {
        "colab": {
          "base_uri": "https://localhost:8080/"
        },
        "id": "kxGyjvgQ99iM",
        "outputId": "7edf9b04-ef2b-4327-94a5-2cd992a94fc3"
      },
      "execution_count": 39,
      "outputs": [
        {
          "output_type": "stream",
          "name": "stdout",
          "text": [
            "['ann mariya', 'annjalina', 'apoorva', 'aparna', 'merin']\n"
          ]
        }
      ]
    },
    {
      "cell_type": "code",
      "source": [
        "schoolfriends.sort()"
      ],
      "metadata": {
        "id": "lfENiJFm-IzT"
      },
      "execution_count": 41,
      "outputs": []
    },
    {
      "cell_type": "code",
      "source": [
        "print(schoolfriends)"
      ],
      "metadata": {
        "colab": {
          "base_uri": "https://localhost:8080/"
        },
        "id": "dQh6EPIZ-yFz",
        "outputId": "9c65d441-0218-4002-9b9e-797ca054c758"
      },
      "execution_count": 42,
      "outputs": [
        {
          "output_type": "stream",
          "name": "stdout",
          "text": [
            "['ann mariya', 'annjalina', 'aparna', 'apoorva', 'merin']\n"
          ]
        }
      ]
    },
    {
      "cell_type": "code",
      "source": [
        "schoolfriends.reverse()"
      ],
      "metadata": {
        "id": "dMF26iIR-77z"
      },
      "execution_count": 43,
      "outputs": []
    },
    {
      "cell_type": "code",
      "source": [
        "print(schoolfriends)"
      ],
      "metadata": {
        "colab": {
          "base_uri": "https://localhost:8080/"
        },
        "id": "dAKbVNY3_cRy",
        "outputId": "cbbdf75a-eba0-4af5-de20-4d85b45e43f0"
      },
      "execution_count": 44,
      "outputs": [
        {
          "output_type": "stream",
          "name": "stdout",
          "text": [
            "['merin', 'apoorva', 'aparna', 'annjalina', 'ann mariya']\n"
          ]
        }
      ]
    },
    {
      "cell_type": "code",
      "source": [
        "schoolfriends.insert(3,\"varkey\")"
      ],
      "metadata": {
        "id": "hM2cJaOA_fXl"
      },
      "execution_count": 45,
      "outputs": []
    },
    {
      "cell_type": "code",
      "source": [
        "print(schoolfriends)"
      ],
      "metadata": {
        "colab": {
          "base_uri": "https://localhost:8080/"
        },
        "id": "FrS7PQ3sA3B1",
        "outputId": "9a7c97e2-14cc-403c-8e2d-f0df6e1c0960"
      },
      "execution_count": 46,
      "outputs": [
        {
          "output_type": "stream",
          "name": "stdout",
          "text": [
            "['merin', 'apoorva', 'aparna', 'varkey', 'annjalina', 'ann mariya']\n"
          ]
        }
      ]
    },
    {
      "cell_type": "code",
      "source": [
        "friends=['gayathri','veenus','adithya','kavya','ann']"
      ],
      "metadata": {
        "id": "pFyn0T3JA6yt"
      },
      "execution_count": 47,
      "outputs": []
    },
    {
      "cell_type": "code",
      "source": [
        "schoolfriends=[\"ann mariya\", \"annjalina\" ,\"merin\", \"apoorva\", \"aparna\"]"
      ],
      "metadata": {
        "id": "yDnZzvmXB621"
      },
      "execution_count": 48,
      "outputs": []
    },
    {
      "cell_type": "code",
      "source": [
        "allfriends=friends+schoolfriends"
      ],
      "metadata": {
        "id": "vpL4ZjM2CBtF"
      },
      "execution_count": 51,
      "outputs": []
    },
    {
      "cell_type": "code",
      "source": [
        "print(allfriends)"
      ],
      "metadata": {
        "colab": {
          "base_uri": "https://localhost:8080/"
        },
        "id": "Q9JzU9lOCW-0",
        "outputId": "e5037abd-64c2-4a83-f9df-e4a012fd84f8"
      },
      "execution_count": 52,
      "outputs": [
        {
          "output_type": "stream",
          "name": "stdout",
          "text": [
            "['gayathri', 'veenus', 'adithya', 'kavya', 'ann', 'ann mariya', 'annjalina', 'merin', 'apoorva', 'aparna']\n"
          ]
        }
      ]
    },
    {
      "cell_type": "code",
      "source": [
        "country=('india','scotland','uae','qatar','australia')"
      ],
      "metadata": {
        "id": "L8EUhxaBCa6M"
      },
      "execution_count": 55,
      "outputs": []
    },
    {
      "cell_type": "code",
      "source": [
        "type(country)"
      ],
      "metadata": {
        "colab": {
          "base_uri": "https://localhost:8080/"
        },
        "id": "0bLk1wS0D8Wt",
        "outputId": "1ae10f5e-4bd5-45c4-fc3e-dd05c4ba01c1"
      },
      "execution_count": 56,
      "outputs": [
        {
          "output_type": "execute_result",
          "data": {
            "text/plain": [
              "tuple"
            ]
          },
          "metadata": {},
          "execution_count": 56
        }
      ]
    },
    {
      "cell_type": "code",
      "source": [
        "country.pop()"
      ],
      "metadata": {
        "colab": {
          "base_uri": "https://localhost:8080/",
          "height": 165
        },
        "id": "AKeYK5iZEU2E",
        "outputId": "ea7a8ac7-27eb-4542-8525-0633e3970fc2"
      },
      "execution_count": 57,
      "outputs": [
        {
          "output_type": "error",
          "ename": "AttributeError",
          "evalue": "ignored",
          "traceback": [
            "\u001b[0;31m---------------------------------------------------------------------------\u001b[0m",
            "\u001b[0;31mAttributeError\u001b[0m                            Traceback (most recent call last)",
            "\u001b[0;32m<ipython-input-57-e8d15a29d248>\u001b[0m in \u001b[0;36m<module>\u001b[0;34m\u001b[0m\n\u001b[0;32m----> 1\u001b[0;31m \u001b[0mcountry\u001b[0m\u001b[0;34m.\u001b[0m\u001b[0mpop\u001b[0m\u001b[0;34m(\u001b[0m\u001b[0;34m)\u001b[0m\u001b[0;34m\u001b[0m\u001b[0;34m\u001b[0m\u001b[0m\n\u001b[0m",
            "\u001b[0;31mAttributeError\u001b[0m: 'tuple' object has no attribute 'pop'"
          ]
        }
      ]
    },
    {
      "cell_type": "code",
      "source": [
        "marks=[10,20,30,40,50,60,70,80,90]"
      ],
      "metadata": {
        "id": "2sye4_TbEgSZ"
      },
      "execution_count": 58,
      "outputs": []
    },
    {
      "cell_type": "code",
      "source": [
        "set(marks)"
      ],
      "metadata": {
        "colab": {
          "base_uri": "https://localhost:8080/"
        },
        "id": "KYJwnIEsGRBY",
        "outputId": "b200ddf4-4967-436b-9708-4465baaf55f5"
      },
      "execution_count": 59,
      "outputs": [
        {
          "output_type": "execute_result",
          "data": {
            "text/plain": [
              "{10, 20, 30, 40, 50, 60, 70, 80, 90}"
            ]
          },
          "metadata": {},
          "execution_count": 59
        }
      ]
    },
    {
      "cell_type": "code",
      "source": [
        "print(marks)"
      ],
      "metadata": {
        "colab": {
          "base_uri": "https://localhost:8080/"
        },
        "id": "UH_8Xn6gGYWH",
        "outputId": "5c4a3f9a-8cba-4d48-8d9e-87f7701b8df2"
      },
      "execution_count": 61,
      "outputs": [
        {
          "output_type": "stream",
          "name": "stdout",
          "text": [
            "[10, 20, 30, 40, 50, 60, 70, 80, 90]\n"
          ]
        }
      ]
    },
    {
      "cell_type": "code",
      "source": [
        "info={\"name\":\"joyce\",\"place\":\"angamaly\",\"favourite fruit\":\"orange\",\"fav colour\":\"periwinkle\"}"
      ],
      "metadata": {
        "id": "BmvkVE-QGcef"
      },
      "execution_count": 75,
      "outputs": []
    },
    {
      "cell_type": "code",
      "source": [
        "print(info)"
      ],
      "metadata": {
        "colab": {
          "base_uri": "https://localhost:8080/"
        },
        "id": "gVnzN8zrIdki",
        "outputId": "914f6e6f-4af4-485c-af03-961d7e56bf50"
      },
      "execution_count": 76,
      "outputs": [
        {
          "output_type": "stream",
          "name": "stdout",
          "text": [
            "{'name': 'joyce', 'place': 'angamaly', 'favourite fruit': 'orange', 'fav colour': 'periwinkle'}\n"
          ]
        }
      ]
    },
    {
      "cell_type": "code",
      "source": [
        "type(dict)"
      ],
      "metadata": {
        "colab": {
          "base_uri": "https://localhost:8080/"
        },
        "id": "K0fOQ8IOIixp",
        "outputId": "e4c36282-a0de-4f62-ac55-c30150686c25"
      },
      "execution_count": 70,
      "outputs": [
        {
          "output_type": "execute_result",
          "data": {
            "text/plain": [
              "dict"
            ]
          },
          "metadata": {},
          "execution_count": 70
        }
      ]
    },
    {
      "cell_type": "code",
      "source": [
        "info[\"number\"]=1163"
      ],
      "metadata": {
        "id": "YWJeDkzWJFAf"
      },
      "execution_count": 77,
      "outputs": []
    },
    {
      "cell_type": "code",
      "source": [
        "print(info)"
      ],
      "metadata": {
        "colab": {
          "base_uri": "https://localhost:8080/"
        },
        "id": "JSbzduj1KKtK",
        "outputId": "52ce3fa4-900c-4de2-8040-94c97191cd2f"
      },
      "execution_count": 78,
      "outputs": [
        {
          "output_type": "stream",
          "name": "stdout",
          "text": [
            "{'name': 'joyce', 'place': 'angamaly', 'favourite fruit': 'orange', 'fav colour': 'periwinkle', 'number': 1163}\n"
          ]
        }
      ]
    },
    {
      "cell_type": "code",
      "source": [
        "def add(x,y):\n",
        "  return(x+y)\n",
        "add(2,3)  "
      ],
      "metadata": {
        "colab": {
          "base_uri": "https://localhost:8080/"
        },
        "id": "0DoZciuyKW2z",
        "outputId": "184514ee-650a-458b-b272-f8f4d038143b"
      },
      "execution_count": 79,
      "outputs": [
        {
          "output_type": "execute_result",
          "data": {
            "text/plain": [
              "5"
            ]
          },
          "metadata": {},
          "execution_count": 79
        }
      ]
    },
    {
      "cell_type": "code",
      "source": [
        "def mul(a,b,c):\n",
        "  return(a*b*c)\n",
        "mul(3,1,2)  "
      ],
      "metadata": {
        "colab": {
          "base_uri": "https://localhost:8080/"
        },
        "id": "rEv_T5tRKqTD",
        "outputId": "e01e149d-c07c-47f2-de7e-b62c619e325d"
      },
      "execution_count": 80,
      "outputs": [
        {
          "output_type": "execute_result",
          "data": {
            "text/plain": [
              "6"
            ]
          },
          "metadata": {},
          "execution_count": 80
        }
      ]
    },
    {
      "cell_type": "code",
      "source": [
        "def mul(a,b,c):\n",
        "  return(a*b*c)\n",
        "mul(3,4,2)"
      ],
      "metadata": {
        "colab": {
          "base_uri": "https://localhost:8080/"
        },
        "id": "pZadqMY4MU8M",
        "outputId": "b4eb00dd-c72c-4ef0-9b93-4419494b4c8a"
      },
      "execution_count": 81,
      "outputs": [
        {
          "output_type": "execute_result",
          "data": {
            "text/plain": [
              "24"
            ]
          },
          "metadata": {},
          "execution_count": 81
        }
      ]
    },
    {
      "cell_type": "code",
      "source": [],
      "metadata": {
        "id": "RPcRWxlKMZJM"
      },
      "execution_count": null,
      "outputs": []
    }
  ]
}