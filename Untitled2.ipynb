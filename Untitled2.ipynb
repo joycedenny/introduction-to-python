{
  "nbformat": 4,
  "nbformat_minor": 0,
  "metadata": {
    "colab": {
      "provenance": [],
      "authorship_tag": "ABX9TyN69beZe8qnuPcpwUDeucGe",
      "include_colab_link": true
    },
    "kernelspec": {
      "name": "python3",
      "display_name": "Python 3"
    },
    "language_info": {
      "name": "python"
    }
  },
  "cells": [
    {
      "cell_type": "markdown",
      "metadata": {
        "id": "view-in-github",
        "colab_type": "text"
      },
      "source": [
        "<a href=\"https://colab.research.google.com/github/joycedenny/introduction-to-python/blob/main/Untitled2.ipynb\" target=\"_parent\"><img src=\"https://colab.research.google.com/assets/colab-badge.svg\" alt=\"Open In Colab\"/></a>"
      ]
    },
    {
      "cell_type": "code",
      "execution_count": 2,
      "metadata": {
        "colab": {
          "base_uri": "https://localhost:8080/"
        },
        "id": "prqRQuuNhawx",
        "outputId": "13803cfd-c87e-40fb-cae7-0c29dcce313a"
      },
      "outputs": [
        {
          "output_type": "stream",
          "name": "stdout",
          "text": [
            "enter a number -10\n",
            "absolute value of  10 is 10\n"
          ]
        }
      ],
      "source": [
        "num=int(input(\"enter a number \"))\n",
        "if (num>0):\n",
        "  print(\"absolute value of \", num, \"is\",num)\n",
        "else:\n",
        "  num=num*(-1)\n",
        "  print(\"absolute value of \", num, \"is\", num)  "
      ]
    },
    {
      "cell_type": "code",
      "source": [
        "num=int(input(\"enter a number \"))\n",
        "if (num>0):\n",
        "  print(\"absolute value of \", num, \"is\",num)\n",
        "else:\n",
        "  print(\"absolute value of \", num, \"is\", num*-1) "
      ],
      "metadata": {
        "colab": {
          "base_uri": "https://localhost:8080/"
        },
        "id": "5H6p1lWMl3r9",
        "outputId": "6446b4e5-405a-4001-86a2-63016c500e88"
      },
      "execution_count": 4,
      "outputs": [
        {
          "output_type": "stream",
          "name": "stdout",
          "text": [
            "enter a number -10\n",
            "absolute value of  -10 is 10\n"
          ]
        }
      ]
    },
    {
      "cell_type": "code",
      "source": [
        "marks=int(input(\"enter marks \"))\n",
        "if marks<25:\n",
        "  print(\"grade f\")\n",
        "elif marks>25 and marks<45:\n",
        "  print(\"grade e\") \n",
        "elif marks>45 and marks<50:\n",
        "  print(\"grade d\")  \n",
        "elif marks>50 and marks<60:\n",
        "  print(\"grade c\") \n",
        "elif marks>60 and marks<80:\n",
        "  print(\"grade b\")    \n",
        "else:\n",
        "  print(\"grade a\")"
      ],
      "metadata": {
        "colab": {
          "base_uri": "https://localhost:8080/"
        },
        "id": "h6cKczK-mM26",
        "outputId": "1873bc1f-e1b8-4963-e62d-613fd504e00a"
      },
      "execution_count": 5,
      "outputs": [
        {
          "output_type": "stream",
          "name": "stdout",
          "text": [
            "enter marks 63\n",
            "grade b\n"
          ]
        }
      ]
    },
    {
      "cell_type": "code",
      "source": [
        "a=int(input(\"enter number of classes held\"))\n",
        "b=int(input(\"enter number of classes attended\"))\n",
        "p=b/a*100\n",
        "print(p)\n",
        "if p>75:\n",
        "  print(\"you can attend the exam\")\n",
        "else:\n",
        "  print(\"you are not allowed to attend the exam\")  "
      ],
      "metadata": {
        "colab": {
          "base_uri": "https://localhost:8080/"
        },
        "id": "KG7gCOOGobyz",
        "outputId": "20a2ac7a-5bd4-4464-8c30-eaa694d89cb5"
      },
      "execution_count": 7,
      "outputs": [
        {
          "output_type": "stream",
          "name": "stdout",
          "text": [
            "enter number of classes held    50\n",
            "enter number of classes attended      42\n",
            "84.0\n",
            "you can attend the exam\n"
          ]
        }
      ]
    },
    {
      "cell_type": "code",
      "source": [
        "print(' 1.Addition \\n 2.Subtraction \\n 3.Multiplication \\n 4.Division \\n 5.Modulus \\n 6.Floor division \\n 7.Exponent')\n",
        "n=int(input(\"enter the operation to be performed\"))\n",
        "x=int(input(\"enter the first no\"))\n",
        "y=int(input(\"enter the second no\"))\n",
        "if n==1:\n",
        "  print(\"addition :\",x+y)\n",
        "elif n==2:\n",
        "  print(\"subtraction :\",x-y)\n",
        "elif n==3:\n",
        "  print(\"multiplication :\",x*y)\n",
        "elif n==4:\n",
        "  print(\"division :\",x/y)\n",
        "elif n==5:\n",
        "  print(\"modulus :\",x%y)\n",
        "elif n==6:\n",
        "  print(\"floor division : \",x//y)\n",
        "elif n==7:\n",
        "  print(\"exponent :\",x**y)"
      ],
      "metadata": {
        "colab": {
          "base_uri": "https://localhost:8080/"
        },
        "id": "klztH5RppgAN",
        "outputId": "a234eaa1-e45a-4333-9a1f-29c33409e9bb"
      },
      "execution_count": 8,
      "outputs": [
        {
          "output_type": "stream",
          "name": "stdout",
          "text": [
            " 1.Addition \n",
            " 2.Subtraction \n",
            " 3.Multiplication \n",
            " 4.Division \n",
            " 5.Modulus \n",
            " 6.Floor division \n",
            " 7.Exponent\n",
            "enter the operation to be performed 1\n",
            "enter the first no 20\n",
            "enter the second no 21\n",
            "addition : 41\n"
          ]
        }
      ]
    },
    {
      "cell_type": "code",
      "source": [
        "print(' 1.Addition \\n 2.Subtraction \\n 3.Multiplication \\n 4.Division \\n 5.Modulus \\n 6.Floor division \\n 7.Exponent')\n",
        "n=int(input(\"enter the operation to be performed\"))\n",
        "x=int(input(\"enter the first no\"))\n",
        "y=int(input(\"enter the second no\"))\n",
        "if n==1:\n",
        "  print(\"addition :\",x+y)\n",
        "elif n==2:\n",
        "  print(\"subtraction :\",x-y)\n",
        "elif n==3:\n",
        "  print(\"multiplication :\",x*y)\n",
        "elif n==4:\n",
        "  print(\"division :\",x/y)\n",
        "elif n==5:\n",
        "  print(\"modulus :\",x%y)\n",
        "elif n==6:\n",
        "  print(\"floor division : \",x//y)\n",
        "elif n==7:\n",
        "  print(\"exponent :\",x**y)"
      ],
      "metadata": {
        "colab": {
          "base_uri": "https://localhost:8080/"
        },
        "id": "envHhWdFu8P2",
        "outputId": "11f4ba6f-f55c-4dfa-c41c-4a2364773d69"
      },
      "execution_count": 9,
      "outputs": [
        {
          "output_type": "stream",
          "name": "stdout",
          "text": [
            " 1.Addition \n",
            " 2.Subtraction \n",
            " 3.Multiplication \n",
            " 4.Division \n",
            " 5.Modulus \n",
            " 6.Floor division \n",
            " 7.Exponent\n",
            "enter the operation to be performed 2\n",
            "enter the first no 30\n",
            "enter the second no12\n",
            "subtraction : 18\n"
          ]
        }
      ]
    },
    {
      "cell_type": "code",
      "source": [
        "print(' 1.Addition \\n 2.Subtraction \\n 3.Multiplication \\n 4.Division \\n 5.Modulus \\n 6.Floor division \\n 7.Exponent')\n",
        "n=int(input(\"enter the operation to be performed\"))\n",
        "x=int(input(\"enter the first no\"))\n",
        "y=int(input(\"enter the second no\"))\n",
        "if n==1:\n",
        "  print(\"addition :\",x+y)\n",
        "elif n==2:\n",
        "  print(\"subtraction :\",x-y)\n",
        "elif n==3:\n",
        "  print(\"multiplication :\",x*y)\n",
        "elif n==4:\n",
        "  print(\"division :\",x/y)\n",
        "elif n==5:\n",
        "  print(\"modulus :\",x%y)\n",
        "elif n==6:\n",
        "  print(\"floor division : \",x//y)\n",
        "elif n==7:\n",
        "  print(\"exponent :\",x**y)"
      ],
      "metadata": {
        "colab": {
          "base_uri": "https://localhost:8080/"
        },
        "id": "Jo-2dB5HvMgj",
        "outputId": "035233c6-dfb0-498c-d7ca-0e25db909ac4"
      },
      "execution_count": 10,
      "outputs": [
        {
          "output_type": "stream",
          "name": "stdout",
          "text": [
            " 1.Addition \n",
            " 2.Subtraction \n",
            " 3.Multiplication \n",
            " 4.Division \n",
            " 5.Modulus \n",
            " 6.Floor division \n",
            " 7.Exponent\n",
            "enter the operation to be performed 3\n",
            "enter the first no 11\n",
            "enter the second no 6\n",
            "multiplication : 66\n"
          ]
        }
      ]
    },
    {
      "cell_type": "code",
      "source": [
        "print(' 1.Addition \\n 2.Subtraction \\n 3.Multiplication \\n 4.Division \\n 5.Modulus \\n 6.Floor division \\n 7.Exponent')\n",
        "n=int(input(\"enter the operation to be performed\"))\n",
        "x=int(input(\"enter the first no\"))\n",
        "y=int(input(\"enter the second no\"))\n",
        "if n==1:\n",
        "  print(\"addition :\",x+y)\n",
        "elif n==2:\n",
        "  print(\"subtraction :\",x-y)\n",
        "elif n==3:\n",
        "  print(\"multiplication :\",x*y)\n",
        "elif n==4:\n",
        "  print(\"division :\",x/y)\n",
        "elif n==5:\n",
        "  print(\"modulus :\",x%y)\n",
        "elif n==6:\n",
        "  print(\"floor division : \",x//y)\n",
        "elif n==7:\n",
        "  print(\"exponent :\",x**y)\n"
      ],
      "metadata": {
        "colab": {
          "base_uri": "https://localhost:8080/"
        },
        "id": "qnlM9lIfvaJl",
        "outputId": "04e1f5d4-cf78-4f64-fd47-a2845aee4b4d"
      },
      "execution_count": 11,
      "outputs": [
        {
          "output_type": "stream",
          "name": "stdout",
          "text": [
            " 1.Addition \n",
            " 2.Subtraction \n",
            " 3.Multiplication \n",
            " 4.Division \n",
            " 5.Modulus \n",
            " 6.Floor division \n",
            " 7.Exponent\n",
            "enter the operation to be performed 4\n",
            "enter the first no 10\n",
            "enter the second no 5\n",
            "division : 2.0\n"
          ]
        }
      ]
    },
    {
      "cell_type": "code",
      "source": [
        "print(' 1.Addition \\n 2.Subtraction \\n 3.Multiplication \\n 4.Division \\n 5.Modulus \\n 6.Floor division \\n 7.Exponent')\n",
        "n=int(input(\"enter the operation to be performed\"))\n",
        "x=int(input(\"enter the first no\"))\n",
        "y=int(input(\"enter the second no\"))\n",
        "if n==1:\n",
        "  print(\"addition :\",x+y)\n",
        "elif n==2:\n",
        "  print(\"subtraction :\",x-y)\n",
        "elif n==3:\n",
        "  print(\"multiplication :\",x*y)\n",
        "elif n==4:\n",
        "  print(\"division :\",x/y)\n",
        "elif n==5:\n",
        "  print(\"modulus :\",x%y)\n",
        "elif n==6:\n",
        "  print(\"floor division : \",x//y)\n",
        "elif n==7:\n",
        "  print(\"exponent :\",x**y)\n"
      ],
      "metadata": {
        "colab": {
          "base_uri": "https://localhost:8080/"
        },
        "id": "4Ua3W9Z4viDz",
        "outputId": "4c56a8ea-6747-4e2a-b03f-a4760ae2374e"
      },
      "execution_count": 12,
      "outputs": [
        {
          "output_type": "stream",
          "name": "stdout",
          "text": [
            " 1.Addition \n",
            " 2.Subtraction \n",
            " 3.Multiplication \n",
            " 4.Division \n",
            " 5.Modulus \n",
            " 6.Floor division \n",
            " 7.Exponent\n",
            "enter the operation to be performed 5\n",
            "enter the first no 23\n",
            "enter the second no 7\n",
            "modulus : 2\n"
          ]
        }
      ]
    },
    {
      "cell_type": "code",
      "source": [
        "print(' 1.Addition \\n 2.Subtraction \\n 3.Multiplication \\n 4.Division \\n 5.Modulus \\n 6.Floor division \\n 7.Exponent')\n",
        "n=int(input(\"enter the operation to be performed\"))\n",
        "x=int(input(\"enter the first no\"))\n",
        "y=int(input(\"enter the second no\"))\n",
        "if n==1:\n",
        "  print(\"addition :\",x+y)\n",
        "elif n==2:\n",
        "  print(\"subtraction :\",x-y)\n",
        "elif n==3:\n",
        "  print(\"multiplication :\",x*y)\"\n",
        "elif n==4:\n",
        "  print(\"division :\",x/y)\n",
        "elif n==5:\n",
        "  print(\"modulus :\",x%y)\n",
        "elif n==6:\n",
        "  print(\"floor division : \",x//y)\n",
        "elif n==7:\n",
        "  print(\"exponent :\",x**y)"
      ],
      "metadata": {
        "colab": {
          "base_uri": "https://localhost:8080/"
        },
        "id": "T7f08aDyvrLz",
        "outputId": "4d5ba3c2-7f4d-474e-cab3-974c63f453ca"
      },
      "execution_count": 13,
      "outputs": [
        {
          "output_type": "stream",
          "name": "stdout",
          "text": [
            " 1.Addition \n",
            " 2.Subtraction \n",
            " 3.Multiplication \n",
            " 4.Division \n",
            " 5.Modulus \n",
            " 6.Floor division \n",
            " 7.Exponent\n",
            "enter the operation to be performed 6\n",
            "enter the first no 23\n",
            "enter the second no 7\n",
            "floor division :  3\n"
          ]
        }
      ]
    },
    {
      "cell_type": "code",
      "source": [
        "print(' 1.Addition \\n 2.Subtraction \\n 3.Multiplication \\n 4.Division \\n 5.Modulus \\n 6.Floor division \\n 7.Exponent')\n",
        "n=int(input(\"enter the operation to be performed\"))\n",
        "x=int(input(\"enter the first no\"))\n",
        "y=int(input(\"enter the second no\"))\n",
        "if n==1:\n",
        "  print(\"addition :\",x+y)\n",
        "elif n==2:\n",
        "  print(\"subtraction :\",x-y)\n",
        "elif n==3:\n",
        "  print(\"multiplication :\",x*y)\n",
        "elif n==4:\n",
        "  print(\"division :\",x/y)\n",
        "elif n==5:\n",
        "  print(\"modulus :\",x%y)\n",
        "elif n==6:\n",
        "  print(\"floor division : \",x//y)\n",
        "elif n==7:\n",
        "  print(\"exponent :\",x**y)\n"
      ],
      "metadata": {
        "colab": {
          "base_uri": "https://localhost:8080/"
        },
        "id": "HcSihshFv0ej",
        "outputId": "66b7b589-5a6c-4406-ad15-1705eb06756a"
      },
      "execution_count": 14,
      "outputs": [
        {
          "output_type": "stream",
          "name": "stdout",
          "text": [
            " 1.Addition \n",
            " 2.Subtraction \n",
            " 3.Multiplication \n",
            " 4.Division \n",
            " 5.Modulus \n",
            " 6.Floor division \n",
            " 7.Exponent\n",
            "enter the operation to be performed 7\n",
            "enter the first no 2\n",
            "enter the second no 3\n",
            "exponent : 8\n"
          ]
        }
      ]
    },
    {
      "cell_type": "code",
      "source": [
        "import statistics as s\n",
        "m1=int(input(\"enter mark 1 \"))\n",
        "m2=int(input(\"enter mark 2 \"))\n",
        "m3=int(input(\"enter mark 3 \"))\n",
        "m4=int(input(\"enter mark 4 \"))\n",
        "m5=int(input(\"enter mark 5 \"))\n",
        "print(\"least mark= \",min(m1,m2,m3,m4,m5))\n",
        "print(\"maximum scored= \",max(m1,m2,m3,m4,m5))\n",
        "print(\"average= \",(m1+m2+m3+m4+m5)/5)\n",
        "print(\"round off marks= \",round(s.mean([m1,m2,m3,m4,m5]),2))"
      ],
      "metadata": {
        "colab": {
          "base_uri": "https://localhost:8080/"
        },
        "id": "5jY9196bwWlx",
        "outputId": "d8d57b94-7c4b-480c-94c2-f93d3e03ba7a"
      },
      "execution_count": 16,
      "outputs": [
        {
          "output_type": "stream",
          "name": "stdout",
          "text": [
            "enter mark 1 30\n",
            "enter mark 2 12\n",
            "enter mark 3 21\n",
            "enter mark 4 28\n",
            "enter mark 5 11\n",
            "least mark=  11\n",
            "maximum scored=  30\n",
            "average=  20.4\n",
            "round off marks=  20.4\n"
          ]
        }
      ]
    },
    {
      "cell_type": "code",
      "source": [],
      "metadata": {
        "id": "E8DnFlYo4Yta"
      },
      "execution_count": null,
      "outputs": []
    }
  ]
}