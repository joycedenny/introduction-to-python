{
  "nbformat": 4,
  "nbformat_minor": 0,
  "metadata": {
    "colab": {
      "provenance": [],
      "authorship_tag": "ABX9TyO2+trzwumyDX+M2Hrn8chw",
      "include_colab_link": true
    },
    "kernelspec": {
      "name": "python3",
      "display_name": "Python 3"
    },
    "language_info": {
      "name": "python"
    }
  },
  "cells": [
    {
      "cell_type": "markdown",
      "metadata": {
        "id": "view-in-github",
        "colab_type": "text"
      },
      "source": [
        "<a href=\"https://colab.research.google.com/github/joycedenny/introduction-to-python/blob/main/introduction_to_python6.ipynb\" target=\"_parent\"><img src=\"https://colab.research.google.com/assets/colab-badge.svg\" alt=\"Open In Colab\"/></a>"
      ]
    },
    {
      "cell_type": "code",
      "execution_count": 2,
      "metadata": {
        "colab": {
          "base_uri": "https://localhost:8080/"
        },
        "id": "Ve92cMKjgl7r",
        "outputId": "69fd52d9-c321-4f78-e35e-40e9790d17c7"
      },
      "outputs": [
        {
          "output_type": "stream",
          "name": "stdout",
          "text": [
            "enter your namejoyce\n",
            "joyce\n"
          ]
        }
      ],
      "source": [
        "name=input(\"enter your name\")\n",
        "print(name)"
      ]
    },
    {
      "cell_type": "code",
      "source": [
        "a=int(input(\"enter mark 1= \"))\n",
        "b=int(input(\"enter mark 2= \"))\n",
        "c=int(input(\"enter mark 3= \"))\n",
        "print(\"marks=\", a+b+c)\n",
        "print(\"average marks= \",(a+b+c)/3)\n"
      ],
      "metadata": {
        "colab": {
          "base_uri": "https://localhost:8080/"
        },
        "id": "EeMQZgariSKK",
        "outputId": "c10601ba-de66-4d2b-89fd-1900545f881e"
      },
      "execution_count": 5,
      "outputs": [
        {
          "output_type": "stream",
          "name": "stdout",
          "text": [
            "enter mark 1= 30\n",
            "enter mark 2= 12\n",
            "enter mark 3= 21\n",
            "marks= 63\n",
            "average marks=  21.0\n"
          ]
        }
      ]
    },
    {
      "cell_type": "code",
      "source": [
        "a=int(input(\"enter mark 1= \"))\n",
        "k=int(input('enter mark 2= '))\n",
        "if a>k :\n",
        "  print(\"the largest number is=\", a)\n",
        "if k>a :\n",
        "  print(\"the largest number is=\", k)  "
      ],
      "metadata": {
        "colab": {
          "base_uri": "https://localhost:8080/"
        },
        "id": "ReGFEiQtj82b",
        "outputId": "74e4a5ac-ebd0-47f9-c505-9aaf1f653256"
      },
      "execution_count": 7,
      "outputs": [
        {
          "output_type": "stream",
          "name": "stdout",
          "text": [
            "enter mark 1= 30\n",
            "enter mark 2= 12\n",
            "the largest number is= 30\n"
          ]
        }
      ]
    },
    {
      "cell_type": "code",
      "source": [
        "a=int(input(\"enter mark 1= \"))\n",
        "k=int(input('enter mark 2= '))\n",
        "if a>k :\n",
        "  print(\"the largest number is=\", a)\n",
        "  print(\"the smallest number is=\", k)\n",
        "if k>a :\n",
        "  print(\"the largest number is=\", k)\n",
        "  print(\"the smallest number is=\", a)  "
      ],
      "metadata": {
        "colab": {
          "base_uri": "https://localhost:8080/"
        },
        "id": "VLvY9ogEm-p_",
        "outputId": "9fc54043-a262-45dc-b13b-6e8f45ded55c"
      },
      "execution_count": 9,
      "outputs": [
        {
          "output_type": "stream",
          "name": "stdout",
          "text": [
            "enter mark 1= 30\n",
            "enter mark 2= 12\n",
            "the largest number is= 30\n",
            "the smallest number is= 12\n"
          ]
        }
      ]
    },
    {
      "cell_type": "code",
      "source": [
        "a=int(input(\"n1=\"))\n",
        "b=int(input(\"n2=\"))\n",
        "c=int(input(\"n3=\"))\n",
        "if a>b :\n",
        "  print(\"the largest number is=\", a)\n",
        "else :\n",
        "  print(\"the largest number is=\", b)\n",
        "if a>c :\n",
        "  print(\"the largest number is=\", a)\n",
        "else :\n",
        "  print(\"the largest number is=\", c)     "
      ],
      "metadata": {
        "colab": {
          "base_uri": "https://localhost:8080/"
        },
        "id": "NDE4lQ6PnYRn",
        "outputId": "d5a0f088-e0f7-4262-ee7c-59bb0966b591"
      },
      "execution_count": 10,
      "outputs": [
        {
          "output_type": "stream",
          "name": "stdout",
          "text": [
            "n1=30\n",
            "n2=12\n",
            "n3=21\n",
            "the largest number is= 30\n",
            "the largest number is= 30\n"
          ]
        }
      ]
    },
    {
      "cell_type": "code",
      "source": [
        "a=int(input(\"enter a number\"))\n",
        "if a%2 == 0 :\n",
        "  print(\"it is an even number\")\n",
        "else:\n",
        "  print(\"it is an odd number\") "
      ],
      "metadata": {
        "colab": {
          "base_uri": "https://localhost:8080/"
        },
        "id": "GerRPceirxj7",
        "outputId": "ccfaf72b-80d4-4b45-bb94-1486f1ff6d50"
      },
      "execution_count": 30,
      "outputs": [
        {
          "output_type": "stream",
          "name": "stdout",
          "text": [
            "enter a number30\n",
            "it is an even number\n"
          ]
        }
      ]
    },
    {
      "cell_type": "code",
      "source": [
        "for i in range(1,11):\n",
        "  print(i)"
      ],
      "metadata": {
        "colab": {
          "base_uri": "https://localhost:8080/"
        },
        "id": "Ej4ulaCvv8cV",
        "outputId": "f45618e6-8a35-468a-df30-4e582c7b2bf9"
      },
      "execution_count": 32,
      "outputs": [
        {
          "output_type": "stream",
          "name": "stdout",
          "text": [
            "1\n",
            "2\n",
            "3\n",
            "4\n",
            "5\n",
            "6\n",
            "7\n",
            "8\n",
            "9\n",
            "10\n"
          ]
        }
      ]
    },
    {
      "cell_type": "code",
      "source": [
        "a=int(input(\"enter a number\"))\n",
        "if a%2 == 0 :\n",
        "  print(\"it is an even number\")\n",
        "else:\n",
        "  print(\"it is an odd number\") "
      ],
      "metadata": {
        "colab": {
          "base_uri": "https://localhost:8080/"
        },
        "outputId": "352418ae-226b-41b6-b036-41cd7513eaa9",
        "id": "HM8lzQbR0WR5"
      },
      "execution_count": 33,
      "outputs": [
        {
          "output_type": "stream",
          "name": "stdout",
          "text": [
            "enter a number21\n",
            "it is an odd number\n"
          ]
        }
      ]
    },
    {
      "cell_type": "code",
      "source": [
        "for i in range(1,11):\n",
        "  if i%2==0:\n",
        "   print(i)"
      ],
      "metadata": {
        "colab": {
          "base_uri": "https://localhost:8080/"
        },
        "id": "0GtqRnha0YMJ",
        "outputId": "90b311db-3690-4c6c-e008-630d8f94a296"
      },
      "execution_count": 37,
      "outputs": [
        {
          "output_type": "stream",
          "name": "stdout",
          "text": [
            "2\n",
            "4\n",
            "6\n",
            "8\n",
            "10\n"
          ]
        }
      ]
    },
    {
      "cell_type": "code",
      "source": [
        "for i in range(1,11):\n",
        "    print(i*5)"
      ],
      "metadata": {
        "colab": {
          "base_uri": "https://localhost:8080/"
        },
        "id": "-qQRrOQr06UR",
        "outputId": "ebc56f47-ad0f-4e0a-8975-1f18d2d67a20"
      },
      "execution_count": 39,
      "outputs": [
        {
          "output_type": "stream",
          "name": "stdout",
          "text": [
            "5\n",
            "10\n",
            "15\n",
            "20\n",
            "25\n",
            "30\n",
            "35\n",
            "40\n",
            "45\n",
            "50\n"
          ]
        }
      ]
    },
    {
      "cell_type": "code",
      "source": [],
      "metadata": {
        "id": "jgCABEGm1Ywk"
      },
      "execution_count": null,
      "outputs": []
    }
  ]
}